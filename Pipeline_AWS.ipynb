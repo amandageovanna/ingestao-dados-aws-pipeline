{
  "nbformat": 4,
  "nbformat_minor": 0,
  "metadata": {
    "colab": {
      "provenance": [],
      "authorship_tag": "ABX9TyOF++ZaZZWJQb9rBveNzqkw",
      "include_colab_link": true
    },
    "kernelspec": {
      "name": "python3",
      "display_name": "Python 3"
    },
    "language_info": {
      "name": "python"
    }
  },
  "cells": [
    {
      "cell_type": "markdown",
      "metadata": {
        "id": "view-in-github",
        "colab_type": "text"
      },
      "source": [
        "<a href=\"https://colab.research.google.com/github/amandageovanna/ingestao-dados-aws-pipeline/blob/main/Pipeline_AWS.ipynb\" target=\"_parent\"><img src=\"https://colab.research.google.com/assets/colab-badge.svg\" alt=\"Open In Colab\"/></a>"
      ]
    },
    {
      "cell_type": "code",
      "execution_count": 5,
      "metadata": {
        "id": "32E8Xr8etydW"
      },
      "outputs": [],
      "source": [
        "# prompt: !mkdir -p data\n",
        "\n",
        "!mkdir -p data\n"
      ]
    },
    {
      "cell_type": "code",
      "source": [
        "import requests\n",
        "import os\n",
        "\n",
        "def extract_data(url, filename):\n",
        "    try:\n",
        "        headers = {'User-Agent': 'Mozilla/5.0'}\n",
        "        response = requests.get(url, headers=headers)\n",
        "\n",
        "\n",
        "        if response.status_code != 200:\n",
        "            print(f\"Erro: {response.status_code} - {response.reason}\")\n",
        "            return\n",
        "\n",
        "        os.makedirs(os.path.dirname(filename), exist_ok=True)\n",
        "\n",
        "        with open(filename, 'wb') as f:\n",
        "            f.write(response.content)\n",
        "\n",
        "        print(f\"Arquivo salvo em: {filename}\")\n",
        "    except Exception as e:\n",
        "        print(f\"Erro: {e}\")\n"
      ],
      "metadata": {
        "id": "023Iw2MBt8MH"
      },
      "execution_count": 6,
      "outputs": []
    },
    {
      "cell_type": "code",
      "source": [
        "extract_data(\"https://data.boston.gov/dataset/8048697b-ad64-4bfc-b090-ee00169f2323/resource/dff4d804-5031-443a-8409-8344efd0e5c8/download/tmpm461rr5o.csv\", \"data/dados_2024.csv\")\n",
        "extract_data(\"https://data.boston.gov/dataset/8048697b-ad64-4bfc-b090-ee00169f2323/resource/e6013a93-1321-4f2a-bf91-8d8a02f1e62f/download/tmpwbgyud93.csv\", \"data/dados_2023.csv\")\n",
        "extract_data(\"https://data.boston.gov/dataset/8048697b-ad64-4bfc-b090-ee00169f2323/resource/81a7b022-f8fc-4da5-80e4-b160058ca207/download/tmpfm8veglw.csv\", \"data/dados_2022.csv\")\n",
        "extract_data(\"https://data.boston.gov/dataset/8048697b-ad64-4bfc-b090-ee00169f2323/resource/f53ebccd-bc61-49f9-83db-625f209c95f5/download/tmp88p9g82n.csv\", \"data/dados_2021.csv\")\n",
        "extract_data(\"https://data.boston.gov/dataset/8048697b-ad64-4bfc-b090-ee00169f2323/resource/6ff6a6fd-3141-4440-a880-6f60a37fe789/download/tmpcv_10m2s.csv\", \"data/dados_2020.csv\")\n",
        "extract_data(\"https://data.boston.gov/dataset/8048697b-ad64-4bfc-b090-ee00169f2323/resource/ea2e4696-4a2d-429c-9807-d02eb92e0222/download/tmpcje3ep_w.csv\", \"data/dados_2019.csv\")\n",
        "\n"
      ],
      "metadata": {
        "colab": {
          "base_uri": "https://localhost:8080/"
        },
        "id": "RuWTsFB91QSr",
        "outputId": "0a42d349-4164-430a-8504-92dc302ab303"
      },
      "execution_count": 7,
      "outputs": [
        {
          "output_type": "stream",
          "name": "stdout",
          "text": [
            "Arquivo salvo em: data/dados_2024.csv\n",
            "Arquivo salvo em: data/dados_2023.csv\n",
            "Arquivo salvo em: data/dados_2022.csv\n",
            "Arquivo salvo em: data/dados_2021.csv\n",
            "Arquivo salvo em: data/dados_2020.csv\n",
            "Arquivo salvo em: data/dados_2019.csv\n"
          ]
        }
      ]
    },
    {
      "cell_type": "code",
      "source": [
        "arquivos = [\n",
        "    \"data/dados_2024.csv\",\n",
        "    \"data/dados_2023.csv\",\n",
        "    \"data/dados_2022.csv\",\n",
        "    \"data/dados_2021.csv\",\n",
        "    \"data/dados_2020.csv\",\n",
        "    \"data/dados_2019.csv\",\n",
        "]\n",
        "\n",
        "dfs = {}"
      ],
      "metadata": {
        "id": "0frYYpga1b4t"
      },
      "execution_count": 8,
      "outputs": []
    },
    {
      "cell_type": "code",
      "source": [
        "import pandas as pd"
      ],
      "metadata": {
        "id": "B8KasJiZ1yZg"
      },
      "execution_count": 10,
      "outputs": []
    },
    {
      "cell_type": "code",
      "source": [
        "\n",
        "for arquivo in arquivos:\n",
        "    ano = arquivo.split(\"_\")[-1].split(\".\")[0]\n",
        "    try:\n",
        "        df = pd.read_csv(arquivo)\n",
        "        dfs[ano] = df\n",
        "        print(f\"Arquivo {arquivo} carregado com sucesso.\")\n",
        "    except Exception as e:\n",
        "        print(f\"Erro ao carregar {arquivo}: {e}\")\n"
      ],
      "metadata": {
        "colab": {
          "base_uri": "https://localhost:8080/"
        },
        "id": "z4wjpbmA13nM",
        "outputId": "33b2d60a-03ae-419f-e364-61f960e725fc"
      },
      "execution_count": 11,
      "outputs": [
        {
          "output_type": "stream",
          "name": "stdout",
          "text": [
            "✔️ Arquivo data/dados_2024.csv carregado com sucesso.\n"
          ]
        },
        {
          "output_type": "stream",
          "name": "stderr",
          "text": [
            "<ipython-input-11-0e24363a9ce1>:4: DtypeWarning: Columns (13) have mixed types. Specify dtype option on import or set low_memory=False.\n",
            "  df = pd.read_csv(arquivo)\n"
          ]
        },
        {
          "output_type": "stream",
          "name": "stdout",
          "text": [
            "✔️ Arquivo data/dados_2023.csv carregado com sucesso.\n"
          ]
        },
        {
          "output_type": "stream",
          "name": "stderr",
          "text": [
            "<ipython-input-11-0e24363a9ce1>:4: DtypeWarning: Columns (13) have mixed types. Specify dtype option on import or set low_memory=False.\n",
            "  df = pd.read_csv(arquivo)\n"
          ]
        },
        {
          "output_type": "stream",
          "name": "stdout",
          "text": [
            "✔️ Arquivo data/dados_2022.csv carregado com sucesso.\n"
          ]
        },
        {
          "output_type": "stream",
          "name": "stderr",
          "text": [
            "<ipython-input-11-0e24363a9ce1>:4: DtypeWarning: Columns (13) have mixed types. Specify dtype option on import or set low_memory=False.\n",
            "  df = pd.read_csv(arquivo)\n"
          ]
        },
        {
          "output_type": "stream",
          "name": "stdout",
          "text": [
            "✔️ Arquivo data/dados_2021.csv carregado com sucesso.\n"
          ]
        },
        {
          "output_type": "stream",
          "name": "stderr",
          "text": [
            "<ipython-input-11-0e24363a9ce1>:4: DtypeWarning: Columns (13) have mixed types. Specify dtype option on import or set low_memory=False.\n",
            "  df = pd.read_csv(arquivo)\n"
          ]
        },
        {
          "output_type": "stream",
          "name": "stdout",
          "text": [
            "✔️ Arquivo data/dados_2020.csv carregado com sucesso.\n"
          ]
        },
        {
          "output_type": "stream",
          "name": "stderr",
          "text": [
            "<ipython-input-11-0e24363a9ce1>:4: DtypeWarning: Columns (13) have mixed types. Specify dtype option on import or set low_memory=False.\n",
            "  df = pd.read_csv(arquivo)\n"
          ]
        },
        {
          "output_type": "stream",
          "name": "stdout",
          "text": [
            "✔️ Arquivo data/dados_2019.csv carregado com sucesso.\n"
          ]
        }
      ]
    },
    {
      "cell_type": "code",
      "source": [
        "dfs[\"2019\"].head()"
      ],
      "metadata": {
        "colab": {
          "base_uri": "https://localhost:8080/",
          "height": 516
        },
        "id": "sqvH1s-74LQt",
        "outputId": "67682577-5aa5-49d6-f02e-78f261f838e4"
      },
      "execution_count": 22,
      "outputs": [
        {
          "output_type": "execute_result",
          "data": {
            "text/plain": [
              "   case_enquiry_id              open_dt        sla_target_dt  \\\n",
              "0     101002767874  2019-01-01 00:03:00  2019-01-03 03:30:00   \n",
              "1     101002767875  2019-01-01 00:17:00                  NaN   \n",
              "2     101002767877  2019-01-01 00:31:51  2019-01-03 03:30:00   \n",
              "3     101002767878  2019-01-01 00:42:00                  NaN   \n",
              "4     101002767879  2019-01-01 01:09:12  2019-01-03 03:30:00   \n",
              "\n",
              "             closed_dt on_time case_status  \\\n",
              "0  2019-01-01 02:59:43  ONTIME      Closed   \n",
              "1  2019-11-24 08:48:34  ONTIME      Closed   \n",
              "2  2019-01-01 21:27:40  ONTIME      Closed   \n",
              "3  2019-05-17 08:33:13  ONTIME      Closed   \n",
              "4  2019-01-01 21:28:11  ONTIME      Closed   \n",
              "\n",
              "                                      closure_reason  \\\n",
              "0  Case Closed. Closed date : 2019-01-01 07:59:43...   \n",
              "1  Case Closed. Closed date : 2019-11-24 13:48:34...   \n",
              "2  Case Closed. Closed date : 2019-01-02 02:27:40...   \n",
              "3  Case Closed. Closed date : 2019-05-17 12:33:13...   \n",
              "4  Case Closed. Closed date : 2019-01-02 02:28:11...   \n",
              "\n",
              "                          case_title                            subject  \\\n",
              "0  PRINTED : Knocked down/Eric Huynh            Public Works Department   \n",
              "1                       Fire Hydrant    Boston Water & Sewer Commission   \n",
              "2                Parking Enforcement  Transportation - Traffic Division   \n",
              "3         Police: Full Notifications            Mayor's 24 Hour Hotline   \n",
              "4                Parking Enforcement  Transportation - Traffic Division   \n",
              "\n",
              "                             reason  ... neighborhood  \\\n",
              "0                     Street Lights  ...      Roxbury   \n",
              "1                      Fire Hydrant  ...     Back Bay   \n",
              "2  Enforcement & Abandoned Vehicles  ...       Boston   \n",
              "3                      Notification  ...   Dorchester   \n",
              "4  Enforcement & Abandoned Vehicles  ...  East Boston   \n",
              "\n",
              "  neighborhood_services_district     ward precinct  \\\n",
              "0                             13  Ward 14     1401   \n",
              "1                             14        5     0505   \n",
              "2                              3       03            \n",
              "3                              8  Ward 15     1503   \n",
              "4                              1   Ward 1     0109   \n",
              "\n",
              "                 location_street_name location_zipcode   latitude  longitude  \\\n",
              "0                     192 Magnolia St           2121.0  42.311990 -71.073181   \n",
              "1  INTERSECTION Beaver St & Beacon St              NaN  42.355555 -71.072049   \n",
              "2                         35 Fruit St           2114.0  42.362755 -71.069185   \n",
              "3                   35-37 Clarkson St           2125.0  42.308930 -71.066961   \n",
              "4                      196 Trenton St           2128.0  42.380799 -71.031970   \n",
              "\n",
              "                                           geom_4326                source  \n",
              "0  0101000020E610000065AD9DFDAEC451C0051BFB45EF27...      Constituent Call  \n",
              "1  0101000020E61000001A659F739CC451C0516121D7822D...      Constituent Call  \n",
              "2  0101000020E61000009E8A6A866DC451C0F2243BBF6E2E...  Citizens Connect App  \n",
              "3  0101000020E61000007301041549C451C010DDC5008B27...      Constituent Call  \n",
              "4  0101000020E6100000DAA350CD0BC251C0A6639A09BE30...  Citizens Connect App  \n",
              "\n",
              "[5 rows x 30 columns]"
            ],
            "text/html": [
              "\n",
              "  <div id=\"df-b74c57ec-642c-43a3-bf67-7dd0c6a70195\" class=\"colab-df-container\">\n",
              "    <div>\n",
              "<style scoped>\n",
              "    .dataframe tbody tr th:only-of-type {\n",
              "        vertical-align: middle;\n",
              "    }\n",
              "\n",
              "    .dataframe tbody tr th {\n",
              "        vertical-align: top;\n",
              "    }\n",
              "\n",
              "    .dataframe thead th {\n",
              "        text-align: right;\n",
              "    }\n",
              "</style>\n",
              "<table border=\"1\" class=\"dataframe\">\n",
              "  <thead>\n",
              "    <tr style=\"text-align: right;\">\n",
              "      <th></th>\n",
              "      <th>case_enquiry_id</th>\n",
              "      <th>open_dt</th>\n",
              "      <th>sla_target_dt</th>\n",
              "      <th>closed_dt</th>\n",
              "      <th>on_time</th>\n",
              "      <th>case_status</th>\n",
              "      <th>closure_reason</th>\n",
              "      <th>case_title</th>\n",
              "      <th>subject</th>\n",
              "      <th>reason</th>\n",
              "      <th>...</th>\n",
              "      <th>neighborhood</th>\n",
              "      <th>neighborhood_services_district</th>\n",
              "      <th>ward</th>\n",
              "      <th>precinct</th>\n",
              "      <th>location_street_name</th>\n",
              "      <th>location_zipcode</th>\n",
              "      <th>latitude</th>\n",
              "      <th>longitude</th>\n",
              "      <th>geom_4326</th>\n",
              "      <th>source</th>\n",
              "    </tr>\n",
              "  </thead>\n",
              "  <tbody>\n",
              "    <tr>\n",
              "      <th>0</th>\n",
              "      <td>101002767874</td>\n",
              "      <td>2019-01-01 00:03:00</td>\n",
              "      <td>2019-01-03 03:30:00</td>\n",
              "      <td>2019-01-01 02:59:43</td>\n",
              "      <td>ONTIME</td>\n",
              "      <td>Closed</td>\n",
              "      <td>Case Closed. Closed date : 2019-01-01 07:59:43...</td>\n",
              "      <td>PRINTED : Knocked down/Eric Huynh</td>\n",
              "      <td>Public Works Department</td>\n",
              "      <td>Street Lights</td>\n",
              "      <td>...</td>\n",
              "      <td>Roxbury</td>\n",
              "      <td>13</td>\n",
              "      <td>Ward 14</td>\n",
              "      <td>1401</td>\n",
              "      <td>192 Magnolia St</td>\n",
              "      <td>2121.0</td>\n",
              "      <td>42.311990</td>\n",
              "      <td>-71.073181</td>\n",
              "      <td>0101000020E610000065AD9DFDAEC451C0051BFB45EF27...</td>\n",
              "      <td>Constituent Call</td>\n",
              "    </tr>\n",
              "    <tr>\n",
              "      <th>1</th>\n",
              "      <td>101002767875</td>\n",
              "      <td>2019-01-01 00:17:00</td>\n",
              "      <td>NaN</td>\n",
              "      <td>2019-11-24 08:48:34</td>\n",
              "      <td>ONTIME</td>\n",
              "      <td>Closed</td>\n",
              "      <td>Case Closed. Closed date : 2019-11-24 13:48:34...</td>\n",
              "      <td>Fire Hydrant</td>\n",
              "      <td>Boston Water &amp; Sewer Commission</td>\n",
              "      <td>Fire Hydrant</td>\n",
              "      <td>...</td>\n",
              "      <td>Back Bay</td>\n",
              "      <td>14</td>\n",
              "      <td>5</td>\n",
              "      <td>0505</td>\n",
              "      <td>INTERSECTION Beaver St &amp; Beacon St</td>\n",
              "      <td>NaN</td>\n",
              "      <td>42.355555</td>\n",
              "      <td>-71.072049</td>\n",
              "      <td>0101000020E61000001A659F739CC451C0516121D7822D...</td>\n",
              "      <td>Constituent Call</td>\n",
              "    </tr>\n",
              "    <tr>\n",
              "      <th>2</th>\n",
              "      <td>101002767877</td>\n",
              "      <td>2019-01-01 00:31:51</td>\n",
              "      <td>2019-01-03 03:30:00</td>\n",
              "      <td>2019-01-01 21:27:40</td>\n",
              "      <td>ONTIME</td>\n",
              "      <td>Closed</td>\n",
              "      <td>Case Closed. Closed date : 2019-01-02 02:27:40...</td>\n",
              "      <td>Parking Enforcement</td>\n",
              "      <td>Transportation - Traffic Division</td>\n",
              "      <td>Enforcement &amp; Abandoned Vehicles</td>\n",
              "      <td>...</td>\n",
              "      <td>Boston</td>\n",
              "      <td>3</td>\n",
              "      <td>03</td>\n",
              "      <td></td>\n",
              "      <td>35 Fruit St</td>\n",
              "      <td>2114.0</td>\n",
              "      <td>42.362755</td>\n",
              "      <td>-71.069185</td>\n",
              "      <td>0101000020E61000009E8A6A866DC451C0F2243BBF6E2E...</td>\n",
              "      <td>Citizens Connect App</td>\n",
              "    </tr>\n",
              "    <tr>\n",
              "      <th>3</th>\n",
              "      <td>101002767878</td>\n",
              "      <td>2019-01-01 00:42:00</td>\n",
              "      <td>NaN</td>\n",
              "      <td>2019-05-17 08:33:13</td>\n",
              "      <td>ONTIME</td>\n",
              "      <td>Closed</td>\n",
              "      <td>Case Closed. Closed date : 2019-05-17 12:33:13...</td>\n",
              "      <td>Police: Full Notifications</td>\n",
              "      <td>Mayor's 24 Hour Hotline</td>\n",
              "      <td>Notification</td>\n",
              "      <td>...</td>\n",
              "      <td>Dorchester</td>\n",
              "      <td>8</td>\n",
              "      <td>Ward 15</td>\n",
              "      <td>1503</td>\n",
              "      <td>35-37 Clarkson St</td>\n",
              "      <td>2125.0</td>\n",
              "      <td>42.308930</td>\n",
              "      <td>-71.066961</td>\n",
              "      <td>0101000020E61000007301041549C451C010DDC5008B27...</td>\n",
              "      <td>Constituent Call</td>\n",
              "    </tr>\n",
              "    <tr>\n",
              "      <th>4</th>\n",
              "      <td>101002767879</td>\n",
              "      <td>2019-01-01 01:09:12</td>\n",
              "      <td>2019-01-03 03:30:00</td>\n",
              "      <td>2019-01-01 21:28:11</td>\n",
              "      <td>ONTIME</td>\n",
              "      <td>Closed</td>\n",
              "      <td>Case Closed. Closed date : 2019-01-02 02:28:11...</td>\n",
              "      <td>Parking Enforcement</td>\n",
              "      <td>Transportation - Traffic Division</td>\n",
              "      <td>Enforcement &amp; Abandoned Vehicles</td>\n",
              "      <td>...</td>\n",
              "      <td>East Boston</td>\n",
              "      <td>1</td>\n",
              "      <td>Ward 1</td>\n",
              "      <td>0109</td>\n",
              "      <td>196 Trenton St</td>\n",
              "      <td>2128.0</td>\n",
              "      <td>42.380799</td>\n",
              "      <td>-71.031970</td>\n",
              "      <td>0101000020E6100000DAA350CD0BC251C0A6639A09BE30...</td>\n",
              "      <td>Citizens Connect App</td>\n",
              "    </tr>\n",
              "  </tbody>\n",
              "</table>\n",
              "<p>5 rows × 30 columns</p>\n",
              "</div>\n",
              "    <div class=\"colab-df-buttons\">\n",
              "\n",
              "  <div class=\"colab-df-container\">\n",
              "    <button class=\"colab-df-convert\" onclick=\"convertToInteractive('df-b74c57ec-642c-43a3-bf67-7dd0c6a70195')\"\n",
              "            title=\"Convert this dataframe to an interactive table.\"\n",
              "            style=\"display:none;\">\n",
              "\n",
              "  <svg xmlns=\"http://www.w3.org/2000/svg\" height=\"24px\" viewBox=\"0 -960 960 960\">\n",
              "    <path d=\"M120-120v-720h720v720H120Zm60-500h600v-160H180v160Zm220 220h160v-160H400v160Zm0 220h160v-160H400v160ZM180-400h160v-160H180v160Zm440 0h160v-160H620v160ZM180-180h160v-160H180v160Zm440 0h160v-160H620v160Z\"/>\n",
              "  </svg>\n",
              "    </button>\n",
              "\n",
              "  <style>\n",
              "    .colab-df-container {\n",
              "      display:flex;\n",
              "      gap: 12px;\n",
              "    }\n",
              "\n",
              "    .colab-df-convert {\n",
              "      background-color: #E8F0FE;\n",
              "      border: none;\n",
              "      border-radius: 50%;\n",
              "      cursor: pointer;\n",
              "      display: none;\n",
              "      fill: #1967D2;\n",
              "      height: 32px;\n",
              "      padding: 0 0 0 0;\n",
              "      width: 32px;\n",
              "    }\n",
              "\n",
              "    .colab-df-convert:hover {\n",
              "      background-color: #E2EBFA;\n",
              "      box-shadow: 0px 1px 2px rgba(60, 64, 67, 0.3), 0px 1px 3px 1px rgba(60, 64, 67, 0.15);\n",
              "      fill: #174EA6;\n",
              "    }\n",
              "\n",
              "    .colab-df-buttons div {\n",
              "      margin-bottom: 4px;\n",
              "    }\n",
              "\n",
              "    [theme=dark] .colab-df-convert {\n",
              "      background-color: #3B4455;\n",
              "      fill: #D2E3FC;\n",
              "    }\n",
              "\n",
              "    [theme=dark] .colab-df-convert:hover {\n",
              "      background-color: #434B5C;\n",
              "      box-shadow: 0px 1px 3px 1px rgba(0, 0, 0, 0.15);\n",
              "      filter: drop-shadow(0px 1px 2px rgba(0, 0, 0, 0.3));\n",
              "      fill: #FFFFFF;\n",
              "    }\n",
              "  </style>\n",
              "\n",
              "    <script>\n",
              "      const buttonEl =\n",
              "        document.querySelector('#df-b74c57ec-642c-43a3-bf67-7dd0c6a70195 button.colab-df-convert');\n",
              "      buttonEl.style.display =\n",
              "        google.colab.kernel.accessAllowed ? 'block' : 'none';\n",
              "\n",
              "      async function convertToInteractive(key) {\n",
              "        const element = document.querySelector('#df-b74c57ec-642c-43a3-bf67-7dd0c6a70195');\n",
              "        const dataTable =\n",
              "          await google.colab.kernel.invokeFunction('convertToInteractive',\n",
              "                                                    [key], {});\n",
              "        if (!dataTable) return;\n",
              "\n",
              "        const docLinkHtml = 'Like what you see? Visit the ' +\n",
              "          '<a target=\"_blank\" href=https://colab.research.google.com/notebooks/data_table.ipynb>data table notebook</a>'\n",
              "          + ' to learn more about interactive tables.';\n",
              "        element.innerHTML = '';\n",
              "        dataTable['output_type'] = 'display_data';\n",
              "        await google.colab.output.renderOutput(dataTable, element);\n",
              "        const docLink = document.createElement('div');\n",
              "        docLink.innerHTML = docLinkHtml;\n",
              "        element.appendChild(docLink);\n",
              "      }\n",
              "    </script>\n",
              "  </div>\n",
              "\n",
              "\n",
              "<div id=\"df-a7a88d7c-cd1d-4afe-b939-8c4d12386200\">\n",
              "  <button class=\"colab-df-quickchart\" onclick=\"quickchart('df-a7a88d7c-cd1d-4afe-b939-8c4d12386200')\"\n",
              "            title=\"Suggest charts\"\n",
              "            style=\"display:none;\">\n",
              "\n",
              "<svg xmlns=\"http://www.w3.org/2000/svg\" height=\"24px\"viewBox=\"0 0 24 24\"\n",
              "     width=\"24px\">\n",
              "    <g>\n",
              "        <path d=\"M19 3H5c-1.1 0-2 .9-2 2v14c0 1.1.9 2 2 2h14c1.1 0 2-.9 2-2V5c0-1.1-.9-2-2-2zM9 17H7v-7h2v7zm4 0h-2V7h2v10zm4 0h-2v-4h2v4z\"/>\n",
              "    </g>\n",
              "</svg>\n",
              "  </button>\n",
              "\n",
              "<style>\n",
              "  .colab-df-quickchart {\n",
              "      --bg-color: #E8F0FE;\n",
              "      --fill-color: #1967D2;\n",
              "      --hover-bg-color: #E2EBFA;\n",
              "      --hover-fill-color: #174EA6;\n",
              "      --disabled-fill-color: #AAA;\n",
              "      --disabled-bg-color: #DDD;\n",
              "  }\n",
              "\n",
              "  [theme=dark] .colab-df-quickchart {\n",
              "      --bg-color: #3B4455;\n",
              "      --fill-color: #D2E3FC;\n",
              "      --hover-bg-color: #434B5C;\n",
              "      --hover-fill-color: #FFFFFF;\n",
              "      --disabled-bg-color: #3B4455;\n",
              "      --disabled-fill-color: #666;\n",
              "  }\n",
              "\n",
              "  .colab-df-quickchart {\n",
              "    background-color: var(--bg-color);\n",
              "    border: none;\n",
              "    border-radius: 50%;\n",
              "    cursor: pointer;\n",
              "    display: none;\n",
              "    fill: var(--fill-color);\n",
              "    height: 32px;\n",
              "    padding: 0;\n",
              "    width: 32px;\n",
              "  }\n",
              "\n",
              "  .colab-df-quickchart:hover {\n",
              "    background-color: var(--hover-bg-color);\n",
              "    box-shadow: 0 1px 2px rgba(60, 64, 67, 0.3), 0 1px 3px 1px rgba(60, 64, 67, 0.15);\n",
              "    fill: var(--button-hover-fill-color);\n",
              "  }\n",
              "\n",
              "  .colab-df-quickchart-complete:disabled,\n",
              "  .colab-df-quickchart-complete:disabled:hover {\n",
              "    background-color: var(--disabled-bg-color);\n",
              "    fill: var(--disabled-fill-color);\n",
              "    box-shadow: none;\n",
              "  }\n",
              "\n",
              "  .colab-df-spinner {\n",
              "    border: 2px solid var(--fill-color);\n",
              "    border-color: transparent;\n",
              "    border-bottom-color: var(--fill-color);\n",
              "    animation:\n",
              "      spin 1s steps(1) infinite;\n",
              "  }\n",
              "\n",
              "  @keyframes spin {\n",
              "    0% {\n",
              "      border-color: transparent;\n",
              "      border-bottom-color: var(--fill-color);\n",
              "      border-left-color: var(--fill-color);\n",
              "    }\n",
              "    20% {\n",
              "      border-color: transparent;\n",
              "      border-left-color: var(--fill-color);\n",
              "      border-top-color: var(--fill-color);\n",
              "    }\n",
              "    30% {\n",
              "      border-color: transparent;\n",
              "      border-left-color: var(--fill-color);\n",
              "      border-top-color: var(--fill-color);\n",
              "      border-right-color: var(--fill-color);\n",
              "    }\n",
              "    40% {\n",
              "      border-color: transparent;\n",
              "      border-right-color: var(--fill-color);\n",
              "      border-top-color: var(--fill-color);\n",
              "    }\n",
              "    60% {\n",
              "      border-color: transparent;\n",
              "      border-right-color: var(--fill-color);\n",
              "    }\n",
              "    80% {\n",
              "      border-color: transparent;\n",
              "      border-right-color: var(--fill-color);\n",
              "      border-bottom-color: var(--fill-color);\n",
              "    }\n",
              "    90% {\n",
              "      border-color: transparent;\n",
              "      border-bottom-color: var(--fill-color);\n",
              "    }\n",
              "  }\n",
              "</style>\n",
              "\n",
              "  <script>\n",
              "    async function quickchart(key) {\n",
              "      const quickchartButtonEl =\n",
              "        document.querySelector('#' + key + ' button');\n",
              "      quickchartButtonEl.disabled = true;  // To prevent multiple clicks.\n",
              "      quickchartButtonEl.classList.add('colab-df-spinner');\n",
              "      try {\n",
              "        const charts = await google.colab.kernel.invokeFunction(\n",
              "            'suggestCharts', [key], {});\n",
              "      } catch (error) {\n",
              "        console.error('Error during call to suggestCharts:', error);\n",
              "      }\n",
              "      quickchartButtonEl.classList.remove('colab-df-spinner');\n",
              "      quickchartButtonEl.classList.add('colab-df-quickchart-complete');\n",
              "    }\n",
              "    (() => {\n",
              "      let quickchartButtonEl =\n",
              "        document.querySelector('#df-a7a88d7c-cd1d-4afe-b939-8c4d12386200 button');\n",
              "      quickchartButtonEl.style.display =\n",
              "        google.colab.kernel.accessAllowed ? 'block' : 'none';\n",
              "    })();\n",
              "  </script>\n",
              "</div>\n",
              "\n",
              "    </div>\n",
              "  </div>\n"
            ],
            "application/vnd.google.colaboratory.intrinsic+json": {
              "type": "dataframe"
            }
          },
          "metadata": {},
          "execution_count": 22
        }
      ]
    },
    {
      "cell_type": "code",
      "source": [],
      "metadata": {
        "id": "v0xNia3r_jyo"
      },
      "execution_count": null,
      "outputs": []
    },
    {
      "cell_type": "markdown",
      "source": [
        "Conectando a conta de armazenamento\n"
      ],
      "metadata": {
        "id": "NYXS1Xp7_kz7"
      }
    },
    {
      "cell_type": "code",
      "source": [
        "pip install boto3\n"
      ],
      "metadata": {
        "colab": {
          "base_uri": "https://localhost:8080/"
        },
        "id": "JbYgqLU2_nLW",
        "outputId": "808b06c1-5eae-414f-887e-59335a5d6942"
      },
      "execution_count": 2,
      "outputs": [
        {
          "output_type": "stream",
          "name": "stdout",
          "text": [
            "Collecting boto3\n",
            "  Downloading boto3-1.38.0-py3-none-any.whl.metadata (6.6 kB)\n",
            "Collecting botocore<1.39.0,>=1.38.0 (from boto3)\n",
            "  Downloading botocore-1.38.0-py3-none-any.whl.metadata (5.7 kB)\n",
            "Collecting jmespath<2.0.0,>=0.7.1 (from boto3)\n",
            "  Downloading jmespath-1.0.1-py3-none-any.whl.metadata (7.6 kB)\n",
            "Collecting s3transfer<0.13.0,>=0.12.0 (from boto3)\n",
            "  Downloading s3transfer-0.12.0-py3-none-any.whl.metadata (1.7 kB)\n",
            "Requirement already satisfied: python-dateutil<3.0.0,>=2.1 in /usr/local/lib/python3.11/dist-packages (from botocore<1.39.0,>=1.38.0->boto3) (2.8.2)\n",
            "Requirement already satisfied: urllib3!=2.2.0,<3,>=1.25.4 in /usr/local/lib/python3.11/dist-packages (from botocore<1.39.0,>=1.38.0->boto3) (2.3.0)\n",
            "Requirement already satisfied: six>=1.5 in /usr/local/lib/python3.11/dist-packages (from python-dateutil<3.0.0,>=2.1->botocore<1.39.0,>=1.38.0->boto3) (1.17.0)\n",
            "Downloading boto3-1.38.0-py3-none-any.whl (139 kB)\n",
            "\u001b[2K   \u001b[90m━━━━━━━━━━━━━━━━━━━━━━━━━━━━━━━━━━━━━━━━\u001b[0m \u001b[32m139.9/139.9 kB\u001b[0m \u001b[31m4.7 MB/s\u001b[0m eta \u001b[36m0:00:00\u001b[0m\n",
            "\u001b[?25hDownloading botocore-1.38.0-py3-none-any.whl (13.5 MB)\n",
            "\u001b[2K   \u001b[90m━━━━━━━━━━━━━━━━━━━━━━━━━━━━━━━━━━━━━━━━\u001b[0m \u001b[32m13.5/13.5 MB\u001b[0m \u001b[31m106.0 MB/s\u001b[0m eta \u001b[36m0:00:00\u001b[0m\n",
            "\u001b[?25hDownloading jmespath-1.0.1-py3-none-any.whl (20 kB)\n",
            "Downloading s3transfer-0.12.0-py3-none-any.whl (84 kB)\n",
            "\u001b[2K   \u001b[90m━━━━━━━━━━━━━━━━━━━━━━━━━━━━━━━━━━━━━━━━\u001b[0m \u001b[32m84.8/84.8 kB\u001b[0m \u001b[31m6.2 MB/s\u001b[0m eta \u001b[36m0:00:00\u001b[0m\n",
            "\u001b[?25hInstalling collected packages: jmespath, botocore, s3transfer, boto3\n",
            "Successfully installed boto3-1.38.0 botocore-1.38.0 jmespath-1.0.1 s3transfer-0.12.0\n"
          ]
        }
      ]
    },
    {
      "cell_type": "code",
      "source": [
        "import boto3\n",
        "\n",
        "boto3.setup_default_session(\n",
        "    aws_access_key_id=os.environ[\"AWS_ACCESS_KEY_ID\"],\n",
        "    aws_secret_access_key=os.environ[\"AWS_SECRET_ACCESS_KEY\"],\n",
        "    region_name=os.environ[\"AWS_REGION\"]\n",
        ")\n",
        "\n",
        "s3 = boto3.client(\"s3\")"
      ],
      "metadata": {
        "id": "eC6OE7tf_pBS"
      },
      "execution_count": 13,
      "outputs": []
    },
    {
      "cell_type": "code",
      "source": [
        "content = \"\"\"\n",
        "Olá, S3\n",
        "\"\"\"\n",
        "\n",
        "with open(\"hello-s3.txt\", \"w+\") as f:\n",
        "  f.write(content)\n",
        ""
      ],
      "metadata": {
        "id": "weLbY5vXAT_a"
      },
      "execution_count": 27,
      "outputs": []
    },
    {
      "cell_type": "code",
      "source": [
        "s3.upload_file(\"hello-s3.txt\", \"amanda-datalakeaws\", \"bronze/hello-s3\")"
      ],
      "metadata": {
        "id": "YS6qJLDGAkp_"
      },
      "execution_count": 28,
      "outputs": []
    },
    {
      "cell_type": "code",
      "source": [
        "from io import BytesIO\n",
        "for ano, df in dfs.items():\n",
        "  parquet_buffer = BytesIO()\n",
        "  df.to_parquet(parquet_buffer)\n",
        "\n",
        "  s3.put_object(\n",
        "      Bucket=\"amanda-datalakeaws\",\n",
        "      Key=f\"bronze/dados_{ano}.parquet\",\n",
        "      Body=parquet_buffer.getvalue(),\n",
        "      )"
      ],
      "metadata": {
        "id": "2DGGE83pUVQ9"
      },
      "execution_count": 15,
      "outputs": []
    },
    {
      "cell_type": "code",
      "source": [
        "response = s3.list_objects(Bucket=\"amanda-datalakeaws\")"
      ],
      "metadata": {
        "id": "LDNQ72yGWTcG"
      },
      "execution_count": 19,
      "outputs": []
    },
    {
      "cell_type": "code",
      "source": [
        "keys = [obj[\"Key\"] for obj in response[\"Contents\"]]\n",
        "print(keys)"
      ],
      "metadata": {
        "colab": {
          "base_uri": "https://localhost:8080/"
        },
        "id": "v_cqXlySWarH",
        "outputId": "1ef1794f-32d6-4cb7-ca6a-aa584b9cc449"
      },
      "execution_count": 20,
      "outputs": [
        {
          "output_type": "stream",
          "name": "stdout",
          "text": [
            "['bronze/', 'bronze/dados_2019.parquet', 'bronze/dados_2020.parquet', 'bronze/dados_2021.parquet', 'bronze/dados_2022.parquet', 'bronze/dados_2023.parquet', 'bronze/dados_2024.parquet', 'bronze/hello-s3', 'silver/']\n"
          ]
        }
      ]
    }
  ]
}